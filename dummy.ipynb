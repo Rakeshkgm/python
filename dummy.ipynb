{
 "cells": [
  {
   "cell_type": "code",
   "execution_count": 4,
   "metadata": {},
   "outputs": [],
   "source": [
    "def array_diff(a, b):\n",
    "\n",
    "        array_diff([1,2],[2])==[1]\n",
    "# print(array_diff)\n",
    "        return array_diff"
   ]
  },
  {
   "cell_type": "code",
   "execution_count": 20,
   "metadata": {},
   "outputs": [
    {
     "data": {
      "text/plain": [
       "['a', 'b']"
      ]
     },
     "execution_count": 20,
     "metadata": {},
     "output_type": "execute_result"
    }
   ],
   "source": [
    "\n",
    "def filter_list(L):\n",
    "       new_list=[]\n",
    "       for x in L:\n",
    "               if type(x)==int:\n",
    "                       new_list.append(x)\n",
    "       return new_list \n",
    "filter_list([\"a\",\"b\",1,2])\n"
   ]
  },
  {
   "cell_type": "code",
   "execution_count": 25,
   "metadata": {},
   "outputs": [],
   "source": [
    "def dig_pow(n, p):\n",
    "    # your code\n",
    "    n=dig_pow(98,2)\n",
    "    if n==(9*1)+(8*2):\n",
    "        return n\n",
    "    else:\n",
    "        return -1"
   ]
  },
  {
   "cell_type": "code",
   "execution_count": 26,
   "metadata": {},
   "outputs": [],
   "source": [
    "def prod2sum(a, b, c, d):\n",
    "        for m,n,o,p in (a,b,c,d):\n",
    "                if (m,n)==(a,b):\n",
    "                        return (m**2)+(n**2)\n",
    "                elif (o,p)==(c,d):\n",
    "                        return (o**2)+(p**2)\n",
    "                else:\n",
    "                        pass\n",
    "                        \n",
    "                \n",
    "                \n",
    "             \n",
    "                       \n",
    "        \n",
    "               \n",
    "        "
   ]
  },
  {
   "cell_type": "code",
   "execution_count": 2,
   "metadata": {},
   "outputs": [],
   "source": [
    "def swap(st):\n",
    "    st=\"Hello World\"\n",
    "    st=st[1:5].upper()+st[7].upper()\n",
    "    return st\n",
    "    #your code here\n"
   ]
  },
  {
   "cell_type": "code",
   "execution_count": 20,
   "metadata": {},
   "outputs": [
    {
     "data": {
      "text/plain": [
       "'HELLO WORLD'"
      ]
     },
     "execution_count": 20,
     "metadata": {},
     "output_type": "execute_result"
    }
   ],
   "source": [
    "def swap(st):\n",
    "        # vowels=list('Hello World')\n",
    "        for letter in st:\n",
    "                if letter.lower() in st:\n",
    "                       et=st.upper()\n",
    "                       \n",
    "        return et\n",
    "swap('Hello World')\n",
    "                        "
   ]
  },
  {
   "cell_type": "code",
   "execution_count": null,
   "metadata": {},
   "outputs": [],
   "source": [
    "class Solution(object):\n",
    "    def reverse(self, x):\n",
    "            "
   ]
  },
  {
   "cell_type": "code",
   "execution_count": null,
   "metadata": {},
   "outputs": [],
   "source": [
    "class Solution(object):\n",
    "    def twoSum(self, nums, target):\n",
    "        \"\"\"\n",
    "        :type nums: List[int]\n",
    "        :type target: int\n",
    "        :rtype: List[int]\n",
    "        \"\"\"\n",
    "        nums=[2,3,5,9]\n",
    "        target=8\n",
    "        b=[]\n",
    "        for x in range(len(nums)):\n",
    "            for y in range(len(nums)):\n",
    "                if nums[x]+nums[y]==target:\n",
    "                    b.append(nums[x])\n",
    "                    b.append(nums[y])\n",
    "        print(b)"
   ]
  },
  {
   "cell_type": "code",
   "execution_count": null,
   "metadata": {},
   "outputs": [],
   "source": [
    "l1=[3,2,4]\n",
    "l2=[5,6,7]\n",
    "result=[]\n",
    "if l1==l2:\n",
    "        for i in l1:\n",
    "                result.append(l1[i]+l2[i])\n",
    "        print(result)"
   ]
  }
 ],
 "metadata": {
  "kernelspec": {
   "display_name": "Python 3",
   "language": "python",
   "name": "python3"
  },
  "language_info": {
   "codemirror_mode": {
    "name": "ipython",
    "version": 3
   },
   "file_extension": ".py",
   "mimetype": "text/x-python",
   "name": "python",
   "nbconvert_exporter": "python",
   "pygments_lexer": "ipython3",
   "version": "3.10.6"
  },
  "orig_nbformat": 4
 },
 "nbformat": 4,
 "nbformat_minor": 2
}
